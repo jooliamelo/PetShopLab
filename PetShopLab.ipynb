{
 "cells": [
  {
   "cell_type": "markdown",
   "metadata": {},
   "source": [
    "<b>Lab 3 - Pet Shop ER Diagram Write-Up</b>\n",
    "\n",
    "Julia Barbosa Cardoso de Melo \n",
    "\n",
    "Yu Zhong\n",
    "\n",
    "Soham Bhattacharya \n",
    "\n",
    "Brandon Dawkin"
   ]
  },
  {
   "cell_type": "markdown",
   "metadata": {},
   "source": [
    "<b>Table 1: Fish</b> - Our Primary Key for this table was <b>AquariumID</b>, with the attributes: fishSpecies, amountOfFish (with a lower bound constraint preventing this number from being below zero or above an unreasonably high amount of fish in a tank), foodType, and price (with a lower bound constraint preventing a price below [or equal to] zero). This table connects to the Animal Purchases table and the Food because we need to keep track of how many people are buying the fish and how much we should feed the fish. \n",
    "\n",
    "<b>Table 2: Pets</b> - This table’s Primary Key was <b>EnclosureID</b>, pertaining to the enclosures in which the pets live. It has the attributes: name, animalSpecies, gender (with constraints limiting the gender to either male or female, since pets are [as far as our group knows] incapable of expressing a non-conforming gender identity to humans), and price (with a lower bound constraint preventing the price of the pet from being below zero). This table also connects with the Animal Purchases and Food table because we need to keep track of how many people are buying the pets and how much money we’re spending on food so we can keep track of our income. \n",
    "\n",
    "<b>Table 3: Food</b> - Primary Key for this table was <b>Barcode</b>, because a barcode is the method by which the food would be identified based on the attributes: animalType (restricted to pets and fish), price (lower bound constraint preventing price below or at zero), and amountOfFood (with a lower bound constraint preventing this value from dipping below zero). This table is connected with the Pets and Fish table because we need to know how much food we are giving to the fish and pets daily to be able to keep track of our expenses. \n",
    "\n",
    "<b>Table 4: Expense Report</b> - This table had <b>Date</b> as its Primary Key, as it lists the pet shop’s food expenses by the categorical attributes: fishFoodPrice, petFoodPrice, and totalSpent (all with a lower bound constraint preventing the value from being below zero). The expense report is connected to the Food table because we need to know how much money we are spending on food. \n",
    "\n",
    "<b>Table 5: Animal Purchases</b> - Primary Key was <b>TransactionID</b>, with attributes: species, purchasePrice (lower bound constraint preventing this from going below zero), and the Foreign Key loyaltyID (from the Loyalty Program table) to indicate if a customer’s potential Loyalty Program status could have some effect on the transaction. This table is connected to the Pets and Fish table because we need to keep track of how many pets/fish we have available in order for other customers to purchase. \n",
    "\n",
    "<b>Table 6: Food Purchases</b> - This table also had the Primary Key <b>TransactionID</b>, with attributes barcode, purchasePrice, and the Foreign Key loyaltyID, again to factor Loyalty Points into a given transaction, if necessary. This table is also important for us to be able to track our income, not only with the animal purchases but also the food purchases. \n",
    "\n",
    "<b>Table 7: Loyalty Program</b> - Primary Key <b>loyaltyID</b>, this table indicates a customer’s Loyalty status, and sorts Loyalty members by the attributes: firstName, lastName, address, email, and loyaltyPoints (lower bound constraint preventing these values from falling below zero). This table connects to both animal and food purchases so we can keep track of how many loyalty points our customers are receiving and to check if they have any discounts. "
   ]
  },
  {
   "cell_type": "markdown",
   "metadata": {},
   "source": [
    "<img style=\"width:520px;max-width:100%;\" src=\"https://i.imgur.com/mixUaq5.png\">"
   ]
  }
 ],
 "metadata": {
  "kernelspec": {
   "display_name": "Python 3",
   "language": "python",
   "name": "python3"
  },
  "language_info": {
   "codemirror_mode": {
    "name": "ipython",
    "version": 3
   },
   "file_extension": ".py",
   "mimetype": "text/x-python",
   "name": "python",
   "nbconvert_exporter": "python",
   "pygments_lexer": "ipython3",
   "version": "3.7.3"
  }
 },
 "nbformat": 4,
 "nbformat_minor": 2
}
